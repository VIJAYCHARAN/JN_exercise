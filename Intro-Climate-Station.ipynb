{
 "cells": [
  {
   "cell_type": "markdown",
   "id": "a35eeb9f-df70-4ab1-a243-2d2025888eb0",
   "metadata": {},
   "source": [
    "# Introduction to the Climate Station\n",
    "\n",
    "This is a short introduction of Climate Station created for training the use of Jupyter Notebook.\n",
    "\n",
    "\n",
    "\n",
    "### CS Youtube Channel 🧪\n",
    "\n",
    "**Page url** is [Account Url](https://www.youtube.com/@climatestationclimsa7249).\n",
    "\n",
    "**⚠️Some playlist URL are attached below!⚠️**: \n",
    "\n",
    "\n",
    "[UaF-CS Meetings](https://youtube.com/playlist?list=PLFk4ybNmteZ7kLWdg1hH3OW11yK44yxtR).\n",
    "\n",
    "[Tutorial Video](https://youtube.com/playlist?list=PLFk4ybNmteZ76jgb2Juzty9wnOf7C1wMW).\n",
    "\n"
   ]
  },
  {
   "cell_type": "code",
   "execution_count": null,
   "id": "dc97853c-ff54-4169-8209-6a611950211f",
   "metadata": {},
   "outputs": [],
   "source": [
    "%%HTML\n",
    "<div align=\"center\">\n",
    "    <iframe width=\"560\" height=\"315\" src=\"https://www.youtube.com/embed/XPqHWUHQc7s\" title=\"YouTube video player\" frameborder=\"0\" allow=\"accelerometer; autoplay; clipboard-write; encrypted-media; gyroscope; picture-in-picture; web-share\" allowfullscreen></iframe>\n",
    "    <iframe width=\"560\" height=\"315\" src=\"https://www.youtube.com/embed/yf0WL1kLPlM\" title=\"YouTube video player\" frameborder=\"0\" allow=\"accelerometer; autoplay; clipboard-write; encrypted-media; gyroscope; picture-in-picture; web-share\" allowfullscreen></iframe>\n",
    "    <iframe width=\"560\" height=\"315\" src=\"https://www.youtube.com/embed/duTVBGpYE68\" title=\"YouTube video player\" frameborder=\"0\" allow=\"accelerometer; autoplay; clipboard-write; encrypted-media; gyroscope; picture-in-picture; web-share\" allowfullscreen></iframe>\n",
    "    <iframe width=\"560\" height=\"315\" src=\"https://www.youtube.com/embed/podJCgoaS08\" title=\"YouTube video player\" frameborder=\"0\" allow=\"accelerometer; autoplay; clipboard-write; encrypted-media; gyroscope; picture-in-picture; web-share\" allowfullscreen></iframe>\n",
    "    <iframe width=\"560\" height=\"315\" src=\"https://www.youtube.com/embed/fXGIvdFroC8\" title=\"YouTube video player\" frameborder=\"0\" allow=\"accelerometer; autoplay; clipboard-write; encrypted-media; gyroscope; picture-in-picture; web-share\" allowfullscreen></iframe>\n",
    "    <iframe width=\"560\" height=\"315\" src=\"https://www.youtube.com/embed/R8LgIKg3j6I\" title=\"YouTube video player\" frameborder=\"0\" allow=\"accelerometer; autoplay; clipboard-write; encrypted-media; gyroscope; picture-in-picture; web-share\" allowfullscreen></iframe>\n",
    "    <iframe width=\"560\" height=\"315\" src=\"https://www.youtube.com/embed/vXPoIXLxf8Y\" title=\"YouTube video player\" frameborder=\"0\" allow=\"accelerometer; autoplay; clipboard-write; encrypted-media; gyroscope; picture-in-picture; web-share\" allowfullscreen></iframe>\n",
    "    <iframe width=\"560\" height=\"315\" src=\"https://www.youtube.com/embed/0Ez5QgB3pBc\" title=\"YouTube video player\" frameborder=\"0\" allow=\"accelerometer; autoplay; clipboard-write; encrypted-media; gyroscope; picture-in-picture; web-share\" allowfullscreen></iframe>\n",
    "    <iframe width=\"560\" height=\"315\" src=\"https://www.youtube.com/embed/xu9Q_xknYW8\" title=\"YouTube video player\" frameborder=\"0\" allow=\"accelerometer; autoplay; clipboard-write; encrypted-media; gyroscope; picture-in-picture; web-share\" allowfullscreen></iframe>\n",
    "    <iframe width=\"560\" height=\"315\" src=\"https://www.youtube.com/embed/_TtiWgmJmaI\" title=\"YouTube video player\" frameborder=\"0\" allow=\"accelerometer; autoplay; clipboard-write; encrypted-media; gyroscope; picture-in-picture; web-share\" allowfullscreen></iframe>\n",
    "    <iframe width=\"560\" height=\"315\" src=\"https://www.youtube.com/embed/IKH5N557Q3E\" title=\"YouTube video player\" frameborder=\"0\" allow=\"accelerometer; autoplay; clipboard-write; encrypted-media; gyroscope; picture-in-picture; web-share\" allowfullscreen></iframe>\n",
    "    <iframe width=\"560\" height=\"315\" src=\"https://www.youtube.com/embed/4hrS5-JB5EM\" title=\"YouTube video player\" frameborder=\"0\" allow=\"accelerometer; autoplay; clipboard-write; encrypted-media; gyroscope; picture-in-picture; web-share\" allowfullscreen></iframe>\n",
    "    \n",
    "</div>"
   ]
  },
  {
   "cell_type": "markdown",
   "id": "76bbe281-857d-4bba-872b-345cf6a6f8bf",
   "metadata": {},
   "source": [
    "\n",
    "### CS Analysis Tutorial 🧪\n",
    "\n",
    "**⚠️Some playlist URL are attached below!⚠️**: \n",
    "\n",
    "\n",
    "[French Version](https://youtube.com/playlist?list=PL0aTQkoOz35DbWQmWosCgEWbM1BSyS25Z).\n",
    "\n",
    "\n",
    "[English Version](https://youtube.com/playlist?list=PL0aTQkoOz35CbOwiosSlbD1Mz5rwphLrr).\n",
    "\n"
   ]
  },
  {
   "cell_type": "code",
   "execution_count": null,
   "id": "cef95f16-4d93-4050-b1f9-279b8feb89ce",
   "metadata": {
    "tags": []
   },
   "outputs": [],
   "source": [
    "%%HTML\n",
    "<div align=\"center\">\n",
    "<iframe width=\"560\" height=\"315\" src=\"https://www.youtube.com/embed/videoseries?list=PL0aTQkoOz35DbWQmWosCgEWbM1BSyS25Z\" title=\"YouTube video player\" frameborder=\"0\" allow=\"accelerometer; autoplay; clipboard-write; encrypted-media; gyroscope; picture-in-picture; web-share\" allowfullscreen></iframe>\n",
    "\n",
    "\n",
    "<iframe width=\"560\" height=\"315\" src=\"https://www.youtube.com/embed/videoseries?list=PL0aTQkoOz35CbOwiosSlbD1Mz5rwphLrr\" title=\"YouTube video player\" frameborder=\"0\" allow=\"accelerometer; autoplay; clipboard-write; encrypted-media; gyroscope; picture-in-picture; web-share\" allowfullscreen></iframe>\n",
    "\n",
    "</div>\n"
   ]
  },
  {
   "cell_type": "markdown",
   "id": "8f2207af-1a2f-410c-996c-f23bbd679195",
   "metadata": {},
   "source": [
    "## List of package to Install"
   ]
  },
  {
   "cell_type": "code",
   "execution_count": null,
   "id": "77c334c6-bae6-49ac-9c15-a3ada8c2255e",
   "metadata": {},
   "outputs": [],
   "source": [
    "%pip install geojsonio==0.0.3 "
   ]
  },
  {
   "cell_type": "code",
   "execution_count": null,
   "id": "4ff124c8-085f-48e4-9c2b-843ecb64948d",
   "metadata": {},
   "outputs": [],
   "source": [
    "%pip install regionmask"
   ]
  },
  {
   "cell_type": "markdown",
   "id": "ecf15b98-4247-479a-9d3d-d6a81f9a8d7d",
   "metadata": {},
   "source": [
    "## Restart the kernel "
   ]
  }
 ],
 "metadata": {
  "kernelspec": {
   "display_name": "Python 3 (ipykernel)",
   "language": "python",
   "name": "python3"
  },
  "language_info": {
   "codemirror_mode": {
    "name": "ipython",
    "version": 3
   },
   "file_extension": ".py",
   "mimetype": "text/x-python",
   "name": "python",
   "nbconvert_exporter": "python",
   "pygments_lexer": "ipython3",
   "version": "3.8.10"
  }
 },
 "nbformat": 4,
 "nbformat_minor": 5
}
